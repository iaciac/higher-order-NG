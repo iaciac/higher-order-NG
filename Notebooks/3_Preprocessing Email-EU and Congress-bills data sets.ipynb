{
 "cells": [
  {
   "cell_type": "code",
   "execution_count": 1,
   "metadata": {},
   "outputs": [],
   "source": [
    "import numpy as np\n",
    "import matplotlib.pyplot as plt\n",
    "from scipy import random\n",
    "import copy\n",
    "import random\n",
    "from collections import OrderedDict\n",
    "import tarfile\n",
    "import itertools\n",
    "import json\n",
    "%matplotlib inline"
   ]
  },
  {
   "cell_type": "markdown",
   "metadata": {},
   "source": [
    "## Reading Email data \n",
    "Source: https://www.cs.cornell.edu/~arb/data/email-Eu/index.html\n",
    "\n",
    "This is a temporal higher-order network dataset, which here means a sequence of timestamped simplices where each simplex is a set of nodes. In email communication, messages can be sent to multiple recipients. In this dataset, nodes are email addresses at a European research institution. The original data source only contains (sender, receiver, timestamp) tuples, where timestamps are recorded at 1-second resolution. Simplices consist of a sender and all receivers such that the email between the two has the same timestamp. We restricted to simplices that consist of at most 25 nodes. Some basic statistics of this dataset are:\n",
    "- number of nodes: 998\n",
    "- number of timestamped simplices: 234,760\n",
    "- number of unique simplices: 25,791\n",
    "- number of edges in projected graph: 29,299\n",
    "\n",
    "Data restricted to simplices with at most 25 nodes:\n",
    "- email-Eu.tar.gz (timestamped simplices)\n",
    "- email-Eu-proj-graph.tar.gz (weighted projected graph)"
   ]
  },
  {
   "cell_type": "markdown",
   "metadata": {},
   "source": [
    "## File with simplices\n",
    "Each timestamped simplex dataset consists of three files:\n",
    "1. dataset-nverts.txt\n",
    "2. dataset-simplices.txt\n",
    "3. dataset-times.txt\n",
    "\n",
    "All three files represent a vector of integers. There is one integer per line.\n",
    "\n",
    "The first file contains the number of vertices within each simplex. The second\n",
    "file is a contiguous list of the nodes comprising the simplices, where the\n",
    "ordering of the simplices is the same as in the first file. The third file\n",
    "contains the timestamps for each simplex. The length of the vectors in the first\n",
    "and third files is the same, and the length of the vector in the second file is\n",
    "the sum of the integers in the first file."
   ]
  },
  {
   "cell_type": "code",
   "execution_count": 24,
   "metadata": {},
   "outputs": [],
   "source": [
    "filename_nvert = '../Data/email-Eu/email-Eu-nverts.txt'\n",
    "nvert_list = [] #list of integers, representing the size of each simplex\n",
    "with open(filename_nvert) as f:\n",
    "    nvert_list = [int(line) for line in f]\n",
    "f.close()\n",
    "\n",
    "filename_simplices = '../Data/email-Eu/email-Eu-simplices.txt'\n",
    "simplices_vertex_list = [] #list of integers, each element is the ID of a vertex, following the order of nvert_list\n",
    "with open(filename_simplices) as f:\n",
    "    simplices_vertex_list = [int(line) for line in f]\n",
    "f.close()"
   ]
  },
  {
   "cell_type": "code",
   "execution_count": 5,
   "metadata": {},
   "outputs": [
    {
     "data": {
      "image/png": "[encoded data removed]",
      "text/plain": [
       "<Figure size 720x216 with 1 Axes>"
      ]
     },
     "metadata": {
      "needs_background": "light"
     },
     "output_type": "display_data"
    }
   ],
   "source": [
    "from collections import Counter\n",
    "count = Counter(nvert_list)\n",
    "\n",
    "plt.figure(figsize=(10,3))\n",
    "\n",
    "ax = plt.subplot(1,1,1)\n",
    "\n",
    "ax.bar(np.array(list(count.keys()))-1, count.values())\n",
    "ax.set_title('Email', size=16)\n",
    "ax.tick_params(axis='both', which='major', labelsize=16)\n",
    "ax.set_xlabel(r'$k$', size=18)\n",
    "ax.set_ylabel(r'# $k$-hyperlinks', size=18)\n",
    "ax.set_yscale('log')\n",
    "ax.set_xticks(range(1,26))\n",
    "ax.set_xlim(0,25.5)\n",
    "ax.set_ylim(1e0,1e6)\n",
    "    \n",
    "# Hide the right and top spines\n",
    "ax.spines['right'].set_visible(False)\n",
    "ax.spines['top'].set_visible(False)\n",
    "\n",
    "# Only show ticks on the left and bottom spines\n",
    "ax.yaxis.set_ticks_position('left')\n",
    "ax.xaxis.set_ticks_position('bottom')\n",
    "\n",
    "#plt.xticks(range(26))\n",
    "#plt.xlim(0.3,25.8);"
   ]
  },
  {
   "cell_type": "code",
   "execution_count": 25,
   "metadata": {},
   "outputs": [],
   "source": [
    "list_simplices = []\n",
    "\n",
    "upper_index = 0\n",
    "for i, simplex_size in enumerate(nvert_list):\n",
    "    lower_index = upper_index\n",
    "    upper_index += simplex_size\n",
    "    simplex = simplices_vertex_list[lower_index:upper_index]\n",
    "    \n",
    "    #Removing isolated nodes\n",
    "    if len(simplex)>1:\n",
    "        list_simplices.append(simplex)"
   ]
  },
  {
   "cell_type": "code",
   "execution_count": 7,
   "metadata": {},
   "outputs": [],
   "source": [
    "f = open('../Data/email-Eu/Processed_data/email-Eu_simplices.json','w')\n",
    "json.dump(list_simplices, f)\n",
    "f.close()"
   ]
  },
  {
   "cell_type": "markdown",
   "metadata": {},
   "source": [
    "# Same on Congress bills data"
   ]
  },
  {
   "cell_type": "code",
   "execution_count": 27,
   "metadata": {},
   "outputs": [],
   "source": [
    "filename_nvert = '../Data/congress-bills/congress-bills-nverts.txt'\n",
    "nvert_list = [] #list of integers, representing the size of each simplex\n",
    "with open(filename_nvert) as f:\n",
    "    nvert_list = [int(line) for line in f]\n",
    "f.close()\n",
    "\n",
    "filename_simplices = '../Data/congress-bills/congress-bills-simplices.txt'\n",
    "simplices_vertex_list = [] #list of integers, each element is the ID of a vertex, following the order of nvert_list\n",
    "with open(filename_simplices) as f:\n",
    "    simplices_vertex_list = [int(line) for line in f]\n",
    "f.close()"
   ]
  },
  {
   "cell_type": "code",
   "execution_count": 9,
   "metadata": {},
   "outputs": [
    {
     "data": {
      "image/png": "[encoded data removed]",
      "text/plain": [
       "<Figure size 720x216 with 1 Axes>"
      ]
     },
     "metadata": {
      "needs_background": "light"
     },
     "output_type": "display_data"
    }
   ],
   "source": [
    "from collections import Counter\n",
    "count = Counter(nvert_list)\n",
    "\n",
    "plt.figure(figsize=(10,3))\n",
    "\n",
    "ax = plt.subplot(1,1,1)\n",
    "\n",
    "ax.bar(np.array(list(count.keys()))-1, count.values())\n",
    "ax.set_title('Congress bills', size=16)\n",
    "ax.tick_params(axis='both', which='major', labelsize=16)\n",
    "ax.set_xlabel(r'$k$', size=18)\n",
    "ax.set_ylabel(r'# $k$-hyperlinks', size=18)\n",
    "ax.set_yscale('log')\n",
    "ax.set_xticks(range(1,26))\n",
    "ax.set_xlim(0,25.5)\n",
    "ax.set_ylim(1e0,1e6)\n",
    "    \n",
    "# Hide the right and top spines\n",
    "ax.spines['right'].set_visible(False)\n",
    "ax.spines['top'].set_visible(False)\n",
    "\n",
    "# Only show ticks on the left and bottom spines\n",
    "ax.yaxis.set_ticks_position('left')\n",
    "ax.xaxis.set_ticks_position('bottom')\n",
    "\n",
    "#plt.xticks(range(26))\n",
    "#plt.xlim(0.3,25.8);"
   ]
  },
  {
   "cell_type": "code",
   "execution_count": 10,
   "metadata": {},
   "outputs": [],
   "source": [
    "list_simplices = []\n",
    "\n",
    "upper_index = 0\n",
    "for i, simplex_size in enumerate(nvert_list):\n",
    "    lower_index = upper_index\n",
    "    upper_index += simplex_size\n",
    "    simplex = simplices_vertex_list[lower_index:upper_index]\n",
    "    \n",
    "    #Removing isolated nodes\n",
    "    if len(simplex)>1:\n",
    "        list_simplices.append(simplex)"
   ]
  },
  {
   "cell_type": "code",
   "execution_count": 11,
   "metadata": {},
   "outputs": [],
   "source": [
    "f = open('../Data/congress-bills/Processed_data/congress-bills_simplices.json','w')\n",
    "json.dump(list_simplices, f)\n",
    "f.close()"
   ]
  },
  {
   "cell_type": "markdown",
   "metadata": {},
   "source": [
    "# Extracting the sizes"
   ]
  },
  {
   "cell_type": "code",
   "execution_count": 2,
   "metadata": {},
   "outputs": [
    {
     "name": "stdout",
     "output_type": "stream",
     "text": [
      "congress-bills\n",
      "1718 105929\n",
      "email-Eu\n",
      "979 209005\n"
     ]
    }
   ],
   "source": [
    "import itertools\n",
    "\n",
    "print('congress-bills')\n",
    "cliques_list = json.load(open('../Data/congress-bills/Processed_data/congress-bills_simplices.json','r')) \n",
    "nodes =list(set(itertools.chain(*cliques_list)))\n",
    "print(len(nodes), len(cliques_list))\n",
    "\n",
    "print('email-Eu')\n",
    "cliques_list = json.load(open('../Data/email-Eu/Processed_data/email-Eu_simplices.json','r')) \n",
    "nodes =list(set(itertools.chain(*cliques_list)))\n",
    "print(len(nodes), len(cliques_list))"
   ]
  },
  {
   "cell_type": "code",
   "execution_count": null,
   "metadata": {},
   "outputs": [],
   "source": []
  }
 ],
 "metadata": {
  "kernelspec": {
   "display_name": "Python 3",
   "language": "python",
   "name": "python3"
  },
  "language_info": {
   "codemirror_mode": {
    "name": "ipython",
    "version": 3
   },
   "file_extension": ".py",
   "mimetype": "text/x-python",
   "name": "python",
   "nbconvert_exporter": "python",
   "pygments_lexer": "ipython3",
   "version": "3.8.5"
  }
 },
 "nbformat": 4,
 "nbformat_minor": 2
}
