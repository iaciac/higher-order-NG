{
 "cells": [
  {
   "cell_type": "code",
   "execution_count": 1,
   "metadata": {},
   "outputs": [],
   "source": [
    "import numpy as np\n",
    "from scipy import random\n",
    "import networkx as nx\n",
    "import pandas as pd\n",
    "import random\n",
    "import collections\n",
    "import matplotlib.pyplot as plt\n",
    "import os\n",
    "import json\n",
    "from time import time\n",
    "%matplotlib inline"
   ]
  },
  {
   "cell_type": "markdown",
   "metadata": {},
   "source": [
    "## Sociopatterns"
   ]
  },
  {
   "cell_type": "markdown",
   "metadata": {},
   "source": [
    "## p=0"
   ]
  },
  {
   "cell_type": "markdown",
   "metadata": {},
   "source": [
    "Aggregating each run to capture stationary/absorbing states as a function of beta"
   ]
  },
  {
   "cell_type": "code",
   "execution_count": 3,
   "metadata": {},
   "outputs": [
    {
     "name": "stdout",
     "output_type": "stream",
     "text": [
      "InVS15\n",
      "union\n",
      "intersection\n",
      "LyonSchool\n",
      "union\n",
      "intersection\n",
      "SFHH\n",
      "union\n",
      "intersection\n",
      "Thiers13\n",
      "union\n",
      "intersection\n"
     ]
    }
   ],
   "source": [
    "betas = np.linspace(0.,0.8,35)\n",
    "\n",
    "p = 0\n",
    "n_A = 0.45\n",
    "t_max = 1e6\n",
    "\n",
    "n_runs = 50\n",
    "\n",
    "datasetlist = ['InVS15','LyonSchool','SFHH','Thiers13']\n",
    "\n",
    "for dataset in datasetlist:\n",
    "    print(dataset)\n",
    "    for rule in ['union','intersection']:\n",
    "        print(rule)\n",
    "        for run_id in range(n_runs):\n",
    "\n",
    "            indir = '../Results/Simulations/HONG_2words_Sociopatterns/%s/%s/fixed_p%.2f_varbeta_run%i/'%(dataset, rule, p, run_id)\n",
    "\n",
    "\n",
    "            last_k_values = 200 #for average\n",
    "            #Preparing output file\n",
    "            f = open(indir+'summary.csv','w')\n",
    "            f.write('beta,avg_n_A+p,std_n_A+p,avg_n_B,std_n_B,avg_n_AB,std_n_AB\\n')\n",
    "\n",
    "            for beta in betas:\n",
    "                #Reading file\n",
    "                df = pd.read_csv(indir+'HONG_densities_beta%.4f_p%.2f.csv'%(beta, p))\n",
    "\n",
    "                #Checking if simulation reached an absorbing state\n",
    "                if (df.tail(1)['time'].values[0]==t_max)or(df.tail(1)['n_A+p'].values[0]==0)or(df.tail(1)['n_A+p'].values[0]==1): #Yes\n",
    "                    n_Ap = df.tail(1)['n_A+p'].values[0]\n",
    "                    n_B = df.tail(1)['n_B'].values[0]\n",
    "                    n_AB = df.tail(1)['n_AB'].values[0]\n",
    "                    line = str(beta)+','+str(n_Ap)+','+'0'+','+str(n_B)+','+'0'+','+str(n_AB)+','+'0'+'\\n'\n",
    "                    f.write(line)\n",
    "                else: #Getting stationary values\n",
    "                    avgdf = df.tail(last_k_values).mean()\n",
    "                    stddf = df.tail(last_k_values).std()\n",
    "\n",
    "                    avg_n_Ap = avgdf['n_A+p'].values[0]\n",
    "                    avg_n_B = avgdf['n_B'].values[0]\n",
    "                    avg_n_AB = avgdf['n_AB'].values[0]\n",
    "                    std_n_Ap = stdgdf['n_A+p'].values[0]\n",
    "                    std_n_B = stddf['n_B'].values[0]\n",
    "                    std_n_AB = stddf['n_AB'].values[0]\n",
    "\n",
    "                    line = str(beta)+','+str(avg_n_Ap)+','+str(std_n_Ap)+','+str(n_B)+','+str(std_n_B)+','+str(n_AB)+','+str(std_n_AB)+'\\n'\n",
    "                    f.write(line)\n",
    "\n",
    "            f.close()"
   ]
  },
  {
   "cell_type": "markdown",
   "metadata": {},
   "source": [
    "## p>0"
   ]
  },
  {
   "cell_type": "code",
   "execution_count": 2,
   "metadata": {},
   "outputs": [
    {
     "name": "stdout",
     "output_type": "stream",
     "text": [
      "InVS15\n",
      "union\n",
      "intersection\n",
      "LyonSchool\n",
      "union\n",
      "intersection\n",
      "SFHH\n",
      "union\n",
      "intersection\n",
      "Thiers13\n",
      "union\n",
      "intersection\n"
     ]
    }
   ],
   "source": [
    "betas = np.linspace(0.,1.,30)\n",
    "\n",
    "p = 0.01\n",
    "n_A = 0\n",
    "t_max = 1e6\n",
    "\n",
    "n_runs = 50\n",
    "\n",
    "datasetlist = ['InVS15','LyonSchool','SFHH','Thiers13']\n",
    "\n",
    "for dataset in datasetlist:\n",
    "    print(dataset)\n",
    "    for rule in ['union','intersection']:\n",
    "        print(rule)\n",
    "        for run_id in range(n_runs):\n",
    "\n",
    "            indir = '../Results/Simulations/HONG_2words_Sociopatterns/%s/%s/fixed_p%.2f_varbeta_run%i/'%(dataset, rule, p, run_id)\n",
    "\n",
    "            last_k_values = 200 #for average\n",
    "            #Preparing output file\n",
    "            f = open(indir+'summary.csv','w')\n",
    "            f.write('beta,avg_n_A+p,std_n_A+p,avg_n_B,std_n_B,avg_n_AB,std_n_AB\\n')\n",
    "\n",
    "            for beta in betas:\n",
    "                #Reading file\n",
    "                df = pd.read_csv(indir+'HONG_densities_beta%.4f_p%.2f.csv'%(beta, p))\n",
    "\n",
    "                #Checking if simulation reached an absorbing state\n",
    "                if (df.tail(1)['time'].values[0]==t_max)or(df.tail(1)['n_A+p'].values[0]==0)or(df.tail(1)['n_A+p'].values[0]==1): #Yes\n",
    "                    n_Ap = df.tail(1)['n_A+p'].values[0]\n",
    "                    n_B = df.tail(1)['n_B'].values[0]\n",
    "                    n_AB = df.tail(1)['n_AB'].values[0]\n",
    "                    line = str(beta)+','+str(n_Ap)+','+'0'+','+str(n_B)+','+'0'+','+str(n_AB)+','+'0'+'\\n'\n",
    "                    f.write(line)\n",
    "                else: #Getting stationary values\n",
    "                    avgdf = df.tail(last_k_values).mean()\n",
    "                    stddf = df.tail(last_k_values).std()\n",
    "\n",
    "                    avg_n_Ap = avgdf['n_A+p'].values[0]\n",
    "                    avg_n_B = avgdf['n_B'].values[0]\n",
    "                    avg_n_AB = avgdf['n_AB'].values[0]\n",
    "                    std_n_Ap = stdgdf['n_A+p'].values[0]\n",
    "                    std_n_B = stddf['n_B'].values[0]\n",
    "                    std_n_AB = stddf['n_AB'].values[0]\n",
    "\n",
    "                    line = str(beta)+','+str(avg_n_Ap)+','+str(std_n_Ap)+','+str(n_B)+','+str(std_n_B)+','+str(n_AB)+','+str(std_n_AB)+'\\n'\n",
    "                    f.write(line)\n",
    "\n",
    "            f.close()"
   ]
  },
  {
   "cell_type": "markdown",
   "metadata": {},
   "source": [
    "## Email and Congress"
   ]
  },
  {
   "cell_type": "markdown",
   "metadata": {},
   "source": [
    "Aggregating each run to capture stationary/absorbing states as a function of beta."
   ]
  },
  {
   "cell_type": "markdown",
   "metadata": {},
   "source": [
    "## p = 0"
   ]
  },
  {
   "cell_type": "code",
   "execution_count": 5,
   "metadata": {},
   "outputs": [
    {
     "name": "stdout",
     "output_type": "stream",
     "text": [
      "congress-bills\n",
      "union\n",
      "intersection\n",
      "Email-EU\n",
      "union\n",
      "intersection\n"
     ]
    }
   ],
   "source": [
    "betas = np.linspace(0,0.8,35)\n",
    "\n",
    "p = 0\n",
    "n_A = 0.45\n",
    "t_max = 1e6\n",
    "\n",
    "n_runs = 50\n",
    "\n",
    "for dataset in ['congress-bills','Email-EU']: \n",
    "    print(dataset)\n",
    "    for rule in ['union','intersection']:\n",
    "        print(rule)\n",
    "        for run_id in range(n_runs):\n",
    "\n",
    "            indir = '../Results/Simulations/HONG_2words_%s/%s/fixed_p%.2f_varbeta_run%i/'%(dataset, rule, p, run_id)\n",
    "\n",
    "            last_k_values = 100 #for average\n",
    "            #Preparing output file\n",
    "            f = open(indir+'summary.csv','w')\n",
    "            f.write('beta,avg_n_A+p,std_n_A+p,avg_n_B,std_n_B,avg_n_AB,std_n_AB\\n')\n",
    "\n",
    "            for beta in betas:\n",
    "                #Reading file\n",
    "                df = pd.read_csv(indir+'HONG_densities_beta%.4f_p%.2f.csv'%(beta, p))\n",
    "\n",
    "                #Checking if simulation reached an absorbing state\n",
    "                if (df.tail(1)['time'].values[0]==t_max)or(df.tail(1)['n_A+p'].values[0]==0)or(df.tail(1)['n_A+p'].values[0]==1): #Yes\n",
    "                    n_Ap = df.tail(1)['n_A+p'].values[0]\n",
    "                    n_B = df.tail(1)['n_B'].values[0]\n",
    "                    n_AB = df.tail(1)['n_AB'].values[0]\n",
    "                    line = str(beta)+','+str(n_Ap)+','+'0'+','+str(n_B)+','+'0'+','+str(n_AB)+','+'0'+'\\n'\n",
    "                    f.write(line)\n",
    "                else: #Getting stationary values\n",
    "                    avgdf = df.tail(last_k_values).mean()\n",
    "                    stddf = df.tail(last_k_values).std()\n",
    "\n",
    "                    avg_n_Ap = avgdf['n_A+p'].values[0]\n",
    "                    avg_n_B = avgdf['n_B'].values[0]\n",
    "                    avg_n_AB = avgdf['n_AB'].values[0]\n",
    "                    std_n_Ap = stdgdf['n_A+p'].values[0]\n",
    "                    std_n_B = stddf['n_B'].values[0]\n",
    "                    std_n_AB = stddf['n_AB'].values[0]\n",
    "\n",
    "                    line = str(beta)+','+str(avg_n_Ap)+','+str(std_n_Ap)+','+str(n_B)+','+str(std_n_B)+','+str(n_AB)+','+str(std_n_AB)+'\\n'\n",
    "                    f.write(line)\n",
    "\n",
    "            f.close()"
   ]
  },
  {
   "cell_type": "markdown",
   "metadata": {},
   "source": [
    "## p>0"
   ]
  },
  {
   "cell_type": "code",
   "execution_count": 3,
   "metadata": {},
   "outputs": [
    {
     "name": "stdout",
     "output_type": "stream",
     "text": [
      "congress-bills\n",
      "union\n",
      "intersection\n",
      "Email-EU\n",
      "union\n",
      "intersection\n"
     ]
    }
   ],
   "source": [
    "betas = np.linspace(0.,1.,30)\n",
    "\n",
    "p = 0.01#0.03\n",
    "n_A = 0\n",
    "t_max = 1e6\n",
    "\n",
    "n_runs = 50\n",
    "\n",
    "for dataset in ['congress-bills','Email-EU']:\n",
    "    print(dataset)\n",
    "    for rule in ['union','intersection']:\n",
    "        print(rule)\n",
    "        for run_id in range(n_runs):\n",
    "\n",
    "            indir = '../Results/Simulations/HONG_2words_%s/%s/fixed_p%.2f_varbeta_run%i/'%(dataset, rule, p, run_id)\n",
    "\n",
    "            last_k_values = 100 #for average\n",
    "            #Preparing output file\n",
    "            f = open(indir+'summary.csv','w')\n",
    "            f.write('beta,avg_n_A+p,std_n_A+p,avg_n_B,std_n_B,avg_n_AB,std_n_AB\\n')\n",
    "\n",
    "            for beta in betas:\n",
    "                #Reading file\n",
    "                df = pd.read_csv(indir+'HONG_densities_beta%.4f_p%.2f.csv'%(beta, p))\n",
    "\n",
    "                #Checking if simulation reached an absorbing state\n",
    "                if (df.tail(1)['time'].values[0]==t_max)or(df.tail(1)['n_A+p'].values[0]==0)or(df.tail(1)['n_A+p'].values[0]==1): #Yes\n",
    "                    n_Ap = df.tail(1)['n_A+p'].values[0]\n",
    "                    n_B = df.tail(1)['n_B'].values[0]\n",
    "                    n_AB = df.tail(1)['n_AB'].values[0]\n",
    "                    line = str(beta)+','+str(n_Ap)+','+'0'+','+str(n_B)+','+'0'+','+str(n_AB)+','+'0'+'\\n'\n",
    "                    f.write(line)\n",
    "                else: #Getting stationary values\n",
    "                    avgdf = df.tail(last_k_values).mean()\n",
    "                    stddf = df.tail(last_k_values).std()\n",
    "\n",
    "                    avg_n_Ap = avgdf['n_A+p'].values[0]\n",
    "                    avg_n_B = avgdf['n_B'].values[0]\n",
    "                    avg_n_AB = avgdf['n_AB'].values[0]\n",
    "                    std_n_Ap = stdgdf['n_A+p'].values[0]\n",
    "                    std_n_B = stddf['n_B'].values[0]\n",
    "                    std_n_AB = stddf['n_AB'].values[0]\n",
    "\n",
    "                    line = str(beta)+','+str(avg_n_Ap)+','+str(std_n_Ap)+','+str(n_B)+','+str(std_n_B)+','+str(n_AB)+','+str(std_n_AB)+'\\n'\n",
    "                    f.write(line)\n",
    "\n",
    "            f.close()"
   ]
  }
 ],
 "metadata": {
  "kernelspec": {
   "display_name": "Python 3",
   "language": "python",
   "name": "python3"
  },
  "language_info": {
   "codemirror_mode": {
    "name": "ipython",
    "version": 3
   },
   "file_extension": ".py",
   "mimetype": "text/x-python",
   "name": "python",
   "nbconvert_exporter": "python",
   "pygments_lexer": "ipython3",
   "version": "3.8.5"
  }
 },
 "nbformat": 4,
 "nbformat_minor": 4
}
